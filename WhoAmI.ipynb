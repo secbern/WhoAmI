{
 "cells": [
  {
   "cell_type": "code",
   "execution_count": 1,
   "metadata": {},
   "outputs": [],
   "source": [
    "\n",
    "import tweepy #https://github.com/tweepy/tweepy\n",
    "import csv\n",
    "import pandas as pd\n",
    "# Used for progress bar\n",
    "import time\n",
    "import sys\n",
    "from tweepy import OAuthHandler\n",
    "from tweepy import API\n",
    "from collections import Counter\n",
    "from datetime import datetime, date, time, timedelta\n",
    "import sys\n",
    "import json\n",
    "import os\n",
    "import io\n",
    "import re\n",
    "import time\n",
    "import numpy as np\n",
    "from sklearn.metrics import jaccard_similarity_score"
   ]
  },
  {
   "cell_type": "markdown",
   "metadata": {},
   "source": [
    "## Find friends and followers of my account"
   ]
  },
  {
   "cell_type": "code",
   "execution_count": 3,
   "metadata": {},
   "outputs": [
    {
     "name": "stdout",
     "output_type": "stream",
     "text": [
      "looking for friends of infosec_truths\n",
      "looking for followers of infosec_truths\n",
      "Friends: 48\n",
      "['TunnelsUp', 'spresec', 'mttcrns', 'BarryV', 'ISecPlayasClub']\n",
      "Followers: 21\n",
      "['mattnotmitt', 'tankbusta', 'ScottForensics', 'GrimaldoChris', 'RfWJEzKD9E0vAHu']\n"
     ]
    }
   ],
   "source": [
    "user = 'secbern'\n",
    "\n",
    "ct = 0\n",
    "friends = []\n",
    "followers = []\n",
    "\n",
    "print(\"looking for friends of {}\".format(user))\n",
    "for friend in api.friends_ids(user):\n",
    "    sn = api.get_user(friend).screen_name\n",
    "    friends.append(sn)\n",
    "    \n",
    "print(\"looking for followers of {}\".format(user))\n",
    "for follower in api.followers_ids(user):\n",
    "    sn = api.get_user(follower).screen_name\n",
    "    followers.append(sn)\n",
    "    \n",
    "print(\"Friends: {}\".format(len(friends)))\n",
    "print(friends[:5])\n",
    "print(\"Followers: {}\".format(len(followers)))\n",
    "print(followers[:5])"
   ]
  },
  {
   "cell_type": "markdown",
   "metadata": {},
   "source": [
    "## How similar are two accounts?\n"
   ]
  },
  {
   "cell_type": "code",
   "execution_count": 5,
   "metadata": {},
   "outputs": [],
   "source": [
    "def get_followers(target):\n",
    "    followers = []\n",
    "    for follower in api.followers_ids(target):\n",
    "        sn = api.get_user(follower).screen_name\n",
    "        followers.append(sn)\n",
    "    return followers\n",
    "\n",
    "def get_friends(target):\n",
    "    friends = []\n",
    "    for friend in api.friends_ids(target):\n",
    "        sn = api.get_user(friend).screen_name\n",
    "        friends.append(sn)\n",
    "    return friends\n",
    "\n",
    "def get_friends_page(target):\n",
    "    for friend in tweepy.Cursor(api.friends_ids(target)):\n",
    "        sn = api.get_user(friend).screen_name\n",
    "        print sn\n",
    "\n",
    "def get_network(user):\n",
    "    network = get_friends(user) + get_followers(user)\n",
    "    return network\n",
    "\n",
    "def friends_overlap(user1, user2):\n",
    "    return list(set(get_friends(user1)) & set(get_friends(user2)))\n",
    "\n",
    "def followers_overlap(user1, user2):\n",
    "    return list(set(get_followers(user1)) & set(get_followers(user2)))\n",
    "\n",
    "def network_overlap(user1, user2):\n",
    "    return list(set(get_network(user1)) & set(get_network(user2)))\n"
   ]
  },
  {
   "cell_type": "code",
   "execution_count": 6,
   "metadata": {},
   "outputs": [],
   "source": [
    "def get_jaccard(user1, user2):\n",
    "    a = get_network(user1)\n",
    "    b = get_network(user2)\n",
    "    x = list(set(a) & set(b))\n",
    "    j = float(len(x)) / (len(a) + len(b) - len(x))\n",
    "    return j\n"
   ]
  },
  {
   "cell_type": "code",
   "execution_count": 19,
   "metadata": {},
   "outputs": [
    {
     "data": {
      "text/plain": [
       "0.0787037037037037"
      ]
     },
     "execution_count": 19,
     "metadata": {},
     "output_type": "execute_result"
    }
   ],
   "source": [
    "get_jaccard('secbern', 'infosec_truths')"
   ]
  }
 ],
 "metadata": {
  "kernelspec": {
   "display_name": "Python 3",
   "language": "python",
   "name": "python3"
  },
  "language_info": {
   "codemirror_mode": {
    "name": "ipython",
    "version": 3
   },
   "file_extension": ".py",
   "mimetype": "text/x-python",
   "name": "python",
   "nbconvert_exporter": "python",
   "pygments_lexer": "ipython3",
   "version": "3.6.4"
  }
 },
 "nbformat": 4,
 "nbformat_minor": 2
}
