{
 "cells": [
  {
   "cell_type": "markdown",
   "metadata": {},
   "source": [
    "## >whoami : a journey into infosec twitter"
   ]
  },
  {
   "cell_type": "markdown",
   "metadata": {},
   "source": [
    "\"I'm checking twitter. Its for work.\"\n",
    "\n",
    "Like it or not, twitter is a key information resource for anyone working in cybersecurity these days. And in order to check twitter, you have to be on twitter. While I try to keep my twitter feed somewhat focused on cybersecurity topics, over time I have added a couple guilty pleasures and so now I split twitter into two worlds: infosec twitter and not-infosec-twitter.\n",
    "\n",
    "Infosec twitter is a great community. There are links to great resources, lively discussions, and interesting viewpoints. Like the cyber community in the real world, Infosec twitter can also be a very small place. Sometimes it feels like an echo chamber, sometimes a lively debate, and most of the time it seems like everyone is innovating insanely fast and there is no way to catch up. I thought it might be fun to look into some quantitative ways to analyze this community, my place in it, and what I am learning from it.\n",
    "\n",
    "First, I needed to learn how to interact with the twitter API via python, to be able to programmatically collect tweets for analysis. Tweepy is a great package that makes interacting with the twitter API easier for coding n00bz like myself. "
   ]
  },
  {
   "cell_type": "markdown",
   "metadata": {},
   "source": [
    "Here I load up a bunch of packages which I probably will use at some point, or may have forgotten to remove:"
   ]
  },
  {
   "cell_type": "code",
   "execution_count": 1,
   "metadata": {},
   "outputs": [],
   "source": [
    "import tweepy #https://github.com/tweepy/tweepy\n",
    "import csv\n",
    "import pandas as pd\n",
    "# Used for progress bar\n",
    "import sys\n",
    "from tweepy import OAuthHandler\n",
    "from tweepy import API\n",
    "from collections import Counter\n",
    "import sys\n",
    "import json\n",
    "import os\n",
    "import numpy as np\n",
    "from sklearn.metrics import jaccard_similarity_score"
   ]
  },
  {
   "cell_type": "markdown",
   "metadata": {},
   "source": [
    "You need to get an API key from twitter, and here is a good explanation of how to do that:\n",
    "https://themepacific.com/how-to-generate-api-key-consumer-token-access-key-for-twitter-oauth/994/"
   ]
  },
  {
   "cell_type": "code",
   "execution_count": 4,
   "metadata": {},
   "outputs": [],
   "source": [
    "#Twitter API credentials\n",
    "consumer_key = \"CONSUMER_KEY\"\n",
    "consumer_secret = \"CONSUMER_SECRET\"\n",
    "access_key = \"ACCESS_KEY\"\n",
    "access_secret = \"MOTHERS_MAIDEN_NAME\"\n",
    "\n",
    "\n",
    "\n",
    "OAUTH_KEYS = {'consumer_key':consumer_key, 'consumer_secret':consumer_secret,\n",
    " 'access_token_key':access_key, 'access_token_secret':access_secret}\n",
    "auth = tweepy.OAuthHandler(OAUTH_KEYS['consumer_key'], OAUTH_KEYS['consumer_secret'])\n",
    "\n",
    "# In order to manage the rate limiting, use these options below. \n",
    "# You will find later that rate limiting is, well, a limiting factor.\n",
    "\n",
    "api = tweepy.API(auth, wait_on_rate_limit=True, wait_on_rate_limit_notify=True)"
   ]
  },
  {
   "cell_type": "markdown",
   "metadata": {},
   "source": [
    "Tweepy has a couple terms that bear defining:\n",
    "\n",
    "Followers: These are users who follow the account in question.\n",
    "\n",
    "Friends: These are users that the account in question follows.\n",
    "\n",
    "account_ID: Each account on twitter has an account ID. At times it is easier to return these IDs, and then later transform them back into account names.\n",
    "\n",
    "\n",
    "Off the bat, I wanted to know: Who is following me? Obviously I could just check on the twitter website, but what if I want to know, at scale, information like how long they have been on twitter, when they joined, etc? The API can help me out."
   ]
  },
  {
   "cell_type": "markdown",
   "metadata": {},
   "source": [
    "## Find friends and followers of my account"
   ]
  },
  {
   "cell_type": "code",
   "execution_count": 146,
   "metadata": {},
   "outputs": [
    {
     "name": "stdout",
     "output_type": "stream",
     "text": [
      "looking for friends of secbern\n",
      "looking for followers of secbern\n",
      "Friends: 215\n",
      "['CyberScoopNews', 'Bing_Chris', '4n6ir', 'lucaskossack', 'RenditionSec']\n",
      "Followers: 171\n",
      "['shahankhatch', 'keeghin', '_HelenaBD', 'W00Tock', 'guerillamos']\n"
     ]
    }
   ],
   "source": [
    "user = 'secbern'\n",
    "\n",
    "ct = 0\n",
    "friends = []\n",
    "followers = []\n",
    "\n",
    "print(\"looking for friends of {}\".format(user))\n",
    "for friend in api.friends_ids(user):\n",
    "    sn = api.get_user(friend).screen_name\n",
    "    friends.append(sn)\n",
    "    \n",
    "print(\"looking for followers of {}\".format(user))\n",
    "for follower in api.followers_ids(user):\n",
    "    sn = api.get_user(follower).screen_name\n",
    "    followers.append(sn)\n",
    "    \n",
    "print(\"Friends: {}\".format(len(friends)))\n",
    "print(friends[:5])\n",
    "print(\"Followers: {}\".format(len(followers)))\n",
    "print(followers[:5])"
   ]
  },
  {
   "cell_type": "markdown",
   "metadata": {},
   "source": [
    "Second, I'd like to see who my followers are following. Should I also be following them? In tweepy-API talk, this would be my followers' friends. So here's how you can grab that info.\n"
   ]
  },
  {
   "cell_type": "code",
   "execution_count": 6,
   "metadata": {},
   "outputs": [],
   "source": [
    "def get_followers(target):\n",
    "    followers = []\n",
    "    for follower in api.followers_ids(target):\n",
    "        sn = api.get_user(follower).screen_name\n",
    "        followers.append(sn)\n",
    "    return followers\n",
    "\n",
    "def get_friends(target):\n",
    "    friends = []\n",
    "    for friend in api.friends_ids(target):\n",
    "        sn = api.get_user(friend).screen_name\n",
    "        friends.append(sn)\n",
    "    return friends\n",
    "\n",
    "def get_network(user):\n",
    "    network = get_friends(user) + get_followers(user)\n",
    "    return network"
   ]
  },
  {
   "cell_type": "code",
   "execution_count": 7,
   "metadata": {},
   "outputs": [
    {
     "data": {
      "text/plain": [
       "['vicfcs',\n",
       " 'CyberScoopNews',\n",
       " 'Bing_Chris',\n",
       " '4n6ir',\n",
       " 'lucaskossack',\n",
       " 'RenditionSec',\n",
       " '13M4C',\n",
       " 'cyb3rops',\n",
       " 'Lee_Holmes',\n",
       " 'Viking_Sec',\n",
       " 'siedlmar',\n",
       " 'tankbusta',\n",
       " '_HelenaBD',\n",
       " 'DrScottCoull',\n",
       " 'elephant_musing',\n",
       " 'Glasswalk3r',\n",
       " 'hadleywickham',\n",
       " 'BSlay88',\n",
       " 'ACKSYNjACKSYN',\n",
       " 'reesespcres',\n",
       " 'MLSecProject',\n",
       " '3dRailForensics',\n",
       " 'generationlext',\n",
       " 'stvemillertime',\n",
       " 'infosec_truths',\n",
       " 'Pbarry122',\n",
       " 'a_tweeter_user',\n",
       " 'BEERegg',\n",
       " 'FireEye',\n",
       " 'gimbi',\n",
       " 'GradyS',\n",
       " 'pr0cy0n',\n",
       " 'MikeOppenheim',\n",
       " 'dadjokehansolo',\n",
       " 'hexwaxwing',\n",
       " 'Bewg12',\n",
       " 'QW5kcmV3',\n",
       " 'dewey1net',\n",
       " 'mikko',\n",
       " 'taosecurity',\n",
       " 'BartInglot',\n",
       " 'proud2bgeeky',\n",
       " 'ByrneGh',\n",
       " 'DenverSec',\n",
       " 'CyberAmyntas',\n",
       " 'harr0ey',\n",
       " 'OmarNajam',\n",
       " 'JerrySeinfeld',\n",
       " 'SenDuckworth',\n",
       " 'CarbonBlack_Inc',\n",
       " 'cylanceinc',\n",
       " 'Tanium',\n",
       " 'ebitdad',\n",
       " 'CAICfrontrange',\n",
       " 'nihilist_ds',\n",
       " 'ProfFeynman',\n",
       " 'pattonoswalt',\n",
       " 'ClickHole',\n",
       " 'DidierStevens',\n",
       " 'KyloR3n',\n",
       " 'RobertMLee',\n",
       " 'thecyberwire',\n",
       " 'Hexacorn',\n",
       " 'SenAnitaHawkins',\n",
       " 'amazingmap',\n",
       " 'TerribleMaps',\n",
       " 'chrisalbon',\n",
       " 'bread08',\n",
       " 'TrippEnglish',\n",
       " 'RockyNPS',\n",
       " 'vboykis',\n",
       " 'ColoradoMatters',\n",
       " 'RuralTechFund',\n",
       " 'EverythingGoats',\n",
       " 'anthony_persi',\n",
       " 'MITREattack',\n",
       " 'HuntOperator',\n",
       " 'alex_lanstein',\n",
       " 'kafeine',\n",
       " 'NotTruppi',\n",
       " 'snowboardvstree',\n",
       " 'awalinsopan',\n",
       " 'JHencinski',\n",
       " 'kwm',\n",
       " 'applied_data',\n",
       " 'OldHossRadbourn',\n",
       " 'NewsCPR',\n",
       " 'rseymour',\n",
       " 'mrphilroth',\n",
       " 'drhyrum',\n",
       " 'internetofshit',\n",
       " 'OnionSports',\n",
       " 'achillean',\n",
       " 'shodanhq',\n",
       " '_LittleBobby_',\n",
       " 'cthallen',\n",
       " 'HybridAnalysis',\n",
       " 'SICKOFWOLVES',\n",
       " 'matonis',\n",
       " 'expel_io',\n",
       " 'Wu_Tang_Finance',\n",
       " 'invisig0th',\n",
       " 'JohnHultquist',\n",
       " 'davehull',\n",
       " 'robtlee',\n",
       " 'AndreOnCyber',\n",
       " 'sansforensics',\n",
       " 'ryankaz42',\n",
       " 'Cyb3rWard0g',\n",
       " 'danonit',\n",
       " 'oliverit',\n",
       " 'redcanaryco',\n",
       " 'JohnLaTwC',\n",
       " 'mark_dufresne',\n",
       " 'JohnCUrschel',\n",
       " 'chrissanders88',\n",
       " 'PacketTotal',\n",
       " 'Adam_Cyber',\n",
       " 'Shawn365Henry',\n",
       " 'George_Kurtz',\n",
       " 'DAlperovitch',\n",
       " 'CrowdStrike',\n",
       " 'Mandiant',\n",
       " 'SElovitz',\n",
       " 'elonmusk',\n",
       " 'ubersec',\n",
       " 'hdmoore',\n",
       " 'kevinmitnick',\n",
       " 'datahiding',\n",
       " 'phtully',\n",
       " 'dernald_termp',\n",
       " 'Tstillz1',\n",
       " 'omgAPT',\n",
       " 'ttaivo',\n",
       " 'AdamWawrow',\n",
       " 'thebnels',\n",
       " 'mathfunfacts',\n",
       " 'kodefupanda',\n",
       " 'SeanPaulMcGurk',\n",
       " 'SpecterOps',\n",
       " 'tailwindfor',\n",
       " 'RealParisi',\n",
       " 'BarryV',\n",
       " 'DavidPany',\n",
       " 'StevenChabinsky',\n",
       " 'TalosSecurity',\n",
       " 'McAfee',\n",
       " 'e_kaspersky',\n",
       " 'symantec',\n",
       " 'kaspersky',\n",
       " 'TheHackersNews',\n",
       " 'SCMagazine',\n",
       " 'SecurityWeek',\n",
       " 'InfosecurityMag',\n",
       " 'DarkReading',\n",
       " 'threatpost',\n",
       " 'briankrebs',\n",
       " 'ISecPlayasClub',\n",
       " 'ics_Marty',\n",
       " 'AlgebraFact',\n",
       " 'fermatslibrary',\n",
       " 'robknake',\n",
       " 'defcon',\n",
       " 'thedarktangent',\n",
       " 'dotMudge',\n",
       " 'NPR',\n",
       " 'TheOnion',\n",
       " 'FiveThirtyEight',\n",
       " 'NateSilver538',\n",
       " 'daveaitel',\n",
       " 'IBMWatson',\n",
       " 'IBMSecurity',\n",
       " 'MathFacts2',\n",
       " 'FactsOfMath',\n",
       " 'republicofmath',\n",
       " 'srunnels',\n",
       " 'noob_con',\n",
       " 'NaydelmanCG',\n",
       " 'TekDefense',\n",
       " 'raikiasec',\n",
       " 'evan_pena2003',\n",
       " 'talthemaor',\n",
       " 'gentilkiwi',\n",
       " 'KyleHanslovan',\n",
       " 'BtBScore',\n",
       " 'sabr',\n",
       " 'fangraphs',\n",
       " 'Hectaman',\n",
       " 'DavidJBianco',\n",
       " 'jackcr',\n",
       " '_devonkerr_',\n",
       " 'cglyer',\n",
       " 'jedmitten',\n",
       " 'jprosco',\n",
       " 'derekcoulson',\n",
       " 'danielhbohannon',\n",
       " 'matthewdunwoody',\n",
       " 'ItsReallyNick',\n",
       " 'BSidesDEN',\n",
       " 'cfp_time',\n",
       " 'bwithnell',\n",
       " 't3ntman',\n",
       " 'ncfick',\n",
       " 'EndgameInc',\n",
       " 'jamierbutler',\n",
       " 'ox5d_',\n",
       " 'nickharbour',\n",
       " 'williballenthin',\n",
       " 'mikesiko',\n",
       " 'christruncer',\n",
       " 'ConsciousHacker',\n",
       " 'PyroTek3',\n",
       " 'enigma0x3',\n",
       " 'harmj0y',\n",
       " 'mattifestation',\n",
       " 'subTee']"
      ]
     },
     "execution_count": 7,
     "metadata": {},
     "output_type": "execute_result"
    }
   ],
   "source": [
    "get_friends('secbern')"
   ]
  },
  {
   "cell_type": "markdown",
   "metadata": {},
   "source": [
    "## How similar are two accounts?\n",
    "\n",
    "Given another account on twitter, who do we have in common? Who do we mutually follow? Who mutually follows us? How do our networks overlap?\n",
    "\n",
    "Naturally, this lends itself to a larger question: Of all the people in my network, how much do we overlap?\n",
    "For this I used a common distance metric called a Jaccard Index, which basically divides the intersection of two sets by the union (combination) of both sets. This gives me a regular metric for \"how closely related are we?\""
   ]
  },
  {
   "cell_type": "code",
   "execution_count": 8,
   "metadata": {},
   "outputs": [],
   "source": [
    "def friends_overlap(user1, user2):\n",
    "    return list(set(get_friends(user1)) & set(get_friends(user2)))\n",
    "\n",
    "def followers_overlap(user1, user2):\n",
    "    return list(set(get_followers(user1)) & set(get_followers(user2)))\n",
    "\n",
    "def network_overlap(user1, user2):\n",
    "    return list(set(get_network(user1)) & set(get_network(user2)))\n"
   ]
  },
  {
   "cell_type": "code",
   "execution_count": 16,
   "metadata": {},
   "outputs": [
    {
     "name": "stderr",
     "output_type": "stream",
     "text": [
      "Rate limit reached. Sleeping for: 478\n"
     ]
    },
    {
     "data": {
      "text/plain": [
       "['MikeOppenheim',\n",
       " '3dRailForensics',\n",
       " 'BartInglot',\n",
       " 'robknake',\n",
       " 'cyb3rops',\n",
       " 'matthewdunwoody',\n",
       " 'stvemillertime',\n",
       " 'derekcoulson',\n",
       " 'BarryV',\n",
       " 'gentilkiwi',\n",
       " 'Cyb3rWard0g',\n",
       " 'enigma0x3',\n",
       " 'bwithnell',\n",
       " 'ISecPlayasClub',\n",
       " 'christruncer',\n",
       " 'williballenthin',\n",
       " 'JohnHultquist',\n",
       " 'jackcr',\n",
       " 'subTee',\n",
       " 'ByrneGh',\n",
       " 'PyroTek3',\n",
       " 'lucaskossack',\n",
       " 'Glasswalk3r',\n",
       " 'MITREattack',\n",
       " '_devonkerr_',\n",
       " 'generationlext',\n",
       " 'mattifestation',\n",
       " 'ItsReallyNick',\n",
       " 'RobertMLee',\n",
       " 'QW5kcmV3',\n",
       " 'danielhbohannon',\n",
       " 'kwm',\n",
       " 'harmj0y',\n",
       " 'cglyer',\n",
       " 'Hexacorn']"
      ]
     },
     "execution_count": 16,
     "metadata": {},
     "output_type": "execute_result"
    }
   ],
   "source": [
    "friends_overlap('secbern', 'infosec_truths')"
   ]
  },
  {
   "cell_type": "code",
   "execution_count": 18,
   "metadata": {},
   "outputs": [
    {
     "data": {
      "text/plain": [
       "['ItsReallyNick',\n",
       " 'bwithnell',\n",
       " 'parkerrm39',\n",
       " 'williballenthin',\n",
       " 'QW5kcmV3',\n",
       " 'W00Tock',\n",
       " 'stvemillertime',\n",
       " 'GrimaldoChris',\n",
       " 'cglyer',\n",
       " 'BarryV',\n",
       " 'generationlext',\n",
       " 'WhisperScrape',\n",
       " 'lucaskossack',\n",
       " 'Glasswalk3r']"
      ]
     },
     "execution_count": 18,
     "metadata": {},
     "output_type": "execute_result"
    }
   ],
   "source": [
    "followers_overlap('secbern', 'infosec_truths')"
   ]
  },
  {
   "cell_type": "code",
   "execution_count": null,
   "metadata": {},
   "outputs": [],
   "source": [
    "network_overlap('secbern', 'infosec_truths')"
   ]
  },
  {
   "cell_type": "code",
   "execution_count": 10,
   "metadata": {},
   "outputs": [],
   "source": [
    "def get_jaccard(user1, user2):\n",
    "    a = get_network(user1)\n",
    "    b = get_network(user2)\n",
    "    x = list(set(a) & set(b))\n",
    "    j = float(len(x)) / (len(a) + len(b) - len(x))\n",
    "    return j\n",
    "\n",
    "def jaccard_index(a,b):\n",
    "    x = list(set(a) & set(b))\n",
    "    j = float(len(x)) / (len(a) + len(b) - len(x)+.0001)\n",
    "    return j"
   ]
  },
  {
   "cell_type": "code",
   "execution_count": 15,
   "metadata": {},
   "outputs": [
    {
     "data": {
      "text/plain": [
       "0.0894854586129754"
      ]
     },
     "execution_count": 15,
     "metadata": {},
     "output_type": "execute_result"
    }
   ],
   "source": [
    "get_jaccard('secbern', 'infosec_truths')"
   ]
  },
  {
   "cell_type": "markdown",
   "metadata": {},
   "source": [
    "The scikit-learn package also has a jaccard_similarity_score function you can use, like this:"
   ]
  },
  {
   "cell_type": "code",
   "execution_count": null,
   "metadata": {},
   "outputs": [],
   "source": [
    "a = get_network('secbern')\n",
    "b = get_network('infosec_truths')\n",
    "\n",
    "jaccard_similarity_score(a,b)"
   ]
  },
  {
   "cell_type": "markdown",
   "metadata": {},
   "source": [
    "I'd like to also output all the metadata about my network - here is how you do that:\n",
    "\n",
    "(Thanks to Andy Patel's work at https://labsblog.f-secure.com/2018/02/27/how-to-get-twitter-follower-data-using-python-and-tweepy/ for this information and code. I've extracted some of it and changed slightly to output a csv file with all follower information.)"
   ]
  },
  {
   "cell_type": "code",
   "execution_count": 11,
   "metadata": {},
   "outputs": [
    {
     "name": "stdout",
     "output_type": "stream",
     "text": [
      "Fetching batch: 0/0.44"
     ]
    }
   ],
   "source": [
    "def get_follower_ids(target):\n",
    "    return api.followers_ids(target)\n",
    "\n",
    "def get_friends_ids(target):\n",
    "    return api.friends_ids(target)\n",
    "\n",
    "def get_follower_list(target):\n",
    "    followers =[]\n",
    "    for follower_id in api.followers_ids(target):\n",
    "        follower_user = api.get_user(follower_id)\n",
    "        follower_name = follower_user.screen_name\n",
    "        followers.append(follower_name)\n",
    "        \n",
    "def get_user_objects(follower_ids):\n",
    "    batch_len = 100\n",
    "    num_batches = len(follower_ids) / 100\n",
    "    batches = (follower_ids[i:i+batch_len] for i in range(0, len(follower_ids), batch_len))\n",
    "    all_data = []\n",
    "    for batch_count, batch in enumerate(batches):\n",
    "        sys.stdout.write(\"\\r\")\n",
    "        sys.stdout.flush()\n",
    "        sys.stdout.write(\"Fetching batch: \" + str(batch_count) + \"/\" + str(num_batches))\n",
    "        sys.stdout.flush()\n",
    "        users_list = api.lookup_users(user_ids=batch)\n",
    "        users_json = (map(lambda t: t._json, users_list))\n",
    "        all_data += users_json\n",
    "    return all_data\n",
    "\n",
    "def get_follower_profiles(user_data):\n",
    "    d = []\n",
    "    follower_dict = {}\n",
    "    for user in user_data:\n",
    "        if \"followers_count\" in user:\n",
    "            d.append({\"name\": user[\"name\"], \"SN\": user[\"screen_name\"], \"follower_count\": user[\"followers_count\"], \"friends\": user[\"friends_count\"], \"made\": user[\"created_at\"]})\n",
    "            user_pd = pd.DataFrame(d)\n",
    "    return user_pd\n",
    "\n",
    "\n",
    "user = 'infosec_truths'\n",
    "followers = get_follower_ids(user)\n",
    "follower_objects = get_user_objects(followers)\n",
    "profile_pd = get_follower_profiles(follower_objects)\n",
    "output_file = str(user + '.csv')\n",
    "profile_pd.to_csv(output_file)"
   ]
  },
  {
   "cell_type": "markdown",
   "metadata": {},
   "source": [
    "### Dealing with Rate Limits and Second-degrees"
   ]
  },
  {
   "cell_type": "markdown",
   "metadata": {},
   "source": [
    "Rate limiting becomes a real problem once you get into the large numbers of friends/ followers. In the code above, Andy found a clever way to make 100 queries at a time, so we'll rewrite those functions using this batching/pagination method."
   ]
  },
  {
   "cell_type": "code",
   "execution_count": 12,
   "metadata": {},
   "outputs": [],
   "source": [
    "#https://stackoverflow.com/questions/14265082/query-regarding-pagination-in-tweepy-get-followers-of-a-particular-twitter-use\n",
    "\n",
    "import itertools\n",
    "import tweepy\n",
    "\n",
    "def paginate(iterable, page_size):\n",
    "    while True:\n",
    "        i1, i2 = itertools.tee(iterable)\n",
    "        iterable, page = (itertools.islice(i1, page_size, None),\n",
    "                list(itertools.islice(i2, page_size)))\n",
    "        if len(page) == 0:\n",
    "            break\n",
    "        yield page\n",
    "\n",
    "def paginate_friends(target):\n",
    "    try:\n",
    "        friends = api.friends_ids(screen_name=target)\n",
    "        friendlist = []\n",
    "        for page in paginate(friends, 100):\n",
    "            results = api.lookup_users(user_ids=page)\n",
    "            for result in results:\n",
    "                friendlist.append(result.screen_name)\n",
    "        return friendlist\n",
    "    except:\n",
    "        print(\"Bummer, not authorized\")\n",
    "        null = ['n/a']\n",
    "        return null\n",
    "        \n",
    "\n",
    "def paginate_followers(target):\n",
    "    try:\n",
    "        followers = api.followers_ids(screen_name=target)\n",
    "        followerlist = []\n",
    "        for page in paginate(followers, 100):\n",
    "            results = api.lookup_users(user_ids=page)\n",
    "            for result in results:\n",
    "                followerlist.append(result.screen_name)\n",
    "        return followerlist\n",
    "    except:\n",
    "        print(\"Bummer, not authorized\")\n",
    "        null = ['n/a']\n",
    "        return null\n",
    "    \n",
    "\n",
    "def get_network_paginate(user):\n",
    "    network = paginate_friends(user) + paginate_followers(user)\n",
    "    return network\n",
    "\n",
    "def get_jaccard_paginate(user1, user2):\n",
    "    a = get_network_paginate(user1)\n",
    "    b = get_network_paginate(user2)\n",
    "    x = list(set(a) & set(b))\n",
    "    j = float(len(x)) / (len(a) + len(b) - len(x))\n",
    "    return j\n",
    "    "
   ]
  },
  {
   "cell_type": "markdown",
   "metadata": {},
   "source": [
    "I also wanted to go out 2 degrees, to see who my followers were following, who is following my friends, etc. These functions will do that.....but bear in mind they are going to take a very LONG time. I have had success running these overnight or for several hours during the day. You will hit the twitter API rate limit here.\n",
    "\n",
    "What I'm doing (or trying to do) is make one query for each user in the first degree. So in this case, I first ask, \"who are my friends?\". This is one API query, and returns a list of my friends. Then it loops through that list and asks \"Who is <'insert friend'>'s list of friends?\". Thus for each use in the first degree list, it makes another API query. The endpoint I hit in this query is documented here: https://developer.twitter.com/en/docs/basics/rate-limits.html and allows 15 requests within a 15 minute window. Thus, the amount of time it will take for you to go out 2 degrees is roughly equivalent, in minutes, to the number of users in that list. If you follow 285 people, that means roughly 285 minutes, or 285/60 = 4.75 hours.\n",
    "\n",
    "If you know a better way to do this, I am all ears :)"
   ]
  },
  {
   "cell_type": "code",
   "execution_count": 13,
   "metadata": {},
   "outputs": [],
   "source": [
    "\n",
    "def two_degrees(target, first, second):\n",
    "    data = {}\n",
    "    if first == 'friends':\n",
    "        print('Making list of friends')\n",
    "        list1 = paginate_friends(target)\n",
    "    elif first == 'followers':\n",
    "        print('Making list of followers')\n",
    "        list1 = paginate_followers(target)\n",
    "        \n",
    "    total = len(list1)\n",
    "    n =1\n",
    "    \n",
    "    if second == 'friends':\n",
    "        for user in list1:\n",
    "            print('Getting friends of {}'.format(user))\n",
    "            print('{} of {}'.format(n, total))\n",
    "            data[user] = paginate_friends(user)\n",
    "            n+=1\n",
    "    elif second == 'followers':\n",
    "        for user in list1:\n",
    "            print('Getting followers of {}'.format(user))\n",
    "            print('{} of {}'.format(n, total))\n",
    "            data[user] = paginate_followers(user)\n",
    "            n+=1\n",
    "    return data\n"
   ]
  },
  {
   "cell_type": "markdown",
   "metadata": {},
   "source": [
    "Now I want to see how much the followers in my network overlap with each other. Of the people I am following (My Friends), how much do _they_ overlap in who they are following? In other words, how much of an echo chamber am I in?"
   ]
  },
  {
   "cell_type": "code",
   "execution_count": 14,
   "metadata": {},
   "outputs": [
    {
     "data": {
      "text/plain": [
       "['derekcoulson',\n",
       " 'ByrneGh',\n",
       " 'BartInglot',\n",
       " '3dRailForensics',\n",
       " 'TunnelsUp',\n",
       " 'spresec',\n",
       " 'mttcrns',\n",
       " 'BarryV',\n",
       " 'ISecPlayasClub',\n",
       " 'MikeOppenheim',\n",
       " 'jepayneMSFT',\n",
       " 'gentilkiwi',\n",
       " 'harmj0y',\n",
       " 'markrussinovich',\n",
       " 'vysecurity',\n",
       " 'PyroTek3',\n",
       " 'jaredhaight',\n",
       " 'robknake',\n",
       " 'RobertMLee',\n",
       " 'cnoanalysis',\n",
       " 'JohnHultquist',\n",
       " 'cyb3rops',\n",
       " 'Hexacorn',\n",
       " 'pwnallthethings',\n",
       " 'malwareunicorn',\n",
       " 'jackcr',\n",
       " 'Cyb3rWard0g',\n",
       " '_devonkerr_',\n",
       " 'MITREattack',\n",
       " 'enigma0x3',\n",
       " 'mattifestation',\n",
       " 'MalwareTechBlog',\n",
       " 'thegrugq',\n",
       " 'SwiftOnSecurity',\n",
       " 'kwm',\n",
       " 'subTee',\n",
       " 'christruncer',\n",
       " 'QW5kcmV3',\n",
       " 'lucaskossack',\n",
       " 'Malwarenailed',\n",
       " 'Glasswalk3r',\n",
       " 'Matt_Grandy_',\n",
       " 'deantyler',\n",
       " 'williballenthin',\n",
       " 'secbern',\n",
       " 'generationlext',\n",
       " 'cglyer',\n",
       " 'matthewdunwoody',\n",
       " 'bwithnell',\n",
       " 'stvemillertime',\n",
       " 'danielhbohannon',\n",
       " 'ItsReallyNick']"
      ]
     },
     "execution_count": 14,
     "metadata": {},
     "output_type": "execute_result"
    }
   ],
   "source": [
    "paginate_friends('infosec_truths')"
   ]
  },
  {
   "cell_type": "code",
   "execution_count": 19,
   "metadata": {},
   "outputs": [
    {
     "name": "stdout",
     "output_type": "stream",
     "text": [
      "Making list of friends\n",
      "Getting friends of derekcoulson\n",
      "1 of 52\n",
      "Getting friends of ByrneGh\n",
      "2 of 52\n",
      "Getting friends of BartInglot\n",
      "3 of 52\n",
      "Getting friends of 3dRailForensics\n",
      "4 of 52\n",
      "Getting friends of TunnelsUp\n",
      "5 of 52\n",
      "Getting friends of spresec\n",
      "6 of 52\n",
      "Getting friends of mttcrns\n",
      "7 of 52\n",
      "Getting friends of BarryV\n",
      "8 of 52\n",
      "Getting friends of ISecPlayasClub\n",
      "9 of 52\n",
      "Getting friends of MikeOppenheim\n",
      "10 of 52\n",
      "Getting friends of jepayneMSFT\n",
      "11 of 52\n",
      "Getting friends of gentilkiwi\n",
      "12 of 52\n",
      "Getting friends of harmj0y\n",
      "13 of 52\n"
     ]
    },
    {
     "name": "stderr",
     "output_type": "stream",
     "text": [
      "Rate limit reached. Sleeping for: 758\n"
     ]
    },
    {
     "name": "stdout",
     "output_type": "stream",
     "text": [
      "Getting friends of markrussinovich\n",
      "14 of 52\n",
      "Bummer, not authorized\n",
      "Getting friends of vysecurity\n",
      "15 of 52\n",
      "Getting friends of PyroTek3\n",
      "16 of 52\n",
      "Getting friends of jaredhaight\n",
      "17 of 52\n",
      "Getting friends of robknake\n",
      "18 of 52\n",
      "Getting friends of RobertMLee\n",
      "19 of 52\n",
      "Getting friends of cnoanalysis\n",
      "20 of 52\n",
      "Getting friends of JohnHultquist\n",
      "21 of 52\n",
      "Getting friends of cyb3rops\n",
      "22 of 52\n",
      "Getting friends of Hexacorn\n",
      "23 of 52\n",
      "Getting friends of pwnallthethings\n",
      "24 of 52\n",
      "Getting friends of malwareunicorn\n",
      "25 of 52\n",
      "Getting friends of jackcr\n",
      "26 of 52\n",
      "Getting friends of Cyb3rWard0g\n",
      "27 of 52\n",
      "Getting friends of _devonkerr_\n",
      "28 of 52\n",
      "Getting friends of MITREattack\n",
      "29 of 52\n",
      "Getting friends of enigma0x3\n",
      "30 of 52\n"
     ]
    },
    {
     "name": "stderr",
     "output_type": "stream",
     "text": [
      "Rate limit reached. Sleeping for: 782\n"
     ]
    },
    {
     "name": "stdout",
     "output_type": "stream",
     "text": [
      "Getting friends of mattifestation\n",
      "31 of 52\n",
      "Getting friends of MalwareTechBlog\n",
      "32 of 52\n",
      "Getting friends of thegrugq\n",
      "33 of 52\n",
      "Getting friends of SwiftOnSecurity\n",
      "34 of 52\n",
      "Getting friends of kwm\n",
      "35 of 52\n",
      "Getting friends of subTee\n",
      "36 of 52\n",
      "Getting friends of christruncer\n",
      "37 of 52\n",
      "Getting friends of QW5kcmV3\n",
      "38 of 52\n",
      "Getting friends of lucaskossack\n",
      "39 of 52\n",
      "Getting friends of Malwarenailed\n",
      "40 of 52\n",
      "Getting friends of Glasswalk3r\n",
      "41 of 52\n",
      "Getting friends of Matt_Grandy_\n",
      "42 of 52\n",
      "Getting friends of deantyler\n",
      "43 of 52\n",
      "Getting friends of williballenthin\n",
      "44 of 52\n"
     ]
    },
    {
     "name": "stderr",
     "output_type": "stream",
     "text": [
      "Rate limit reached. Sleeping for: 786\n"
     ]
    },
    {
     "name": "stdout",
     "output_type": "stream",
     "text": [
      "Getting friends of secbern\n",
      "45 of 52\n",
      "Getting friends of generationlext\n",
      "46 of 52\n",
      "Getting friends of cglyer\n",
      "47 of 52\n",
      "Getting friends of matthewdunwoody\n",
      "48 of 52\n",
      "Getting friends of bwithnell\n",
      "49 of 52\n",
      "Getting friends of stvemillertime\n",
      "50 of 52\n",
      "Getting friends of danielhbohannon\n",
      "51 of 52\n",
      "Getting friends of ItsReallyNick\n",
      "52 of 52\n"
     ]
    },
    {
     "name": "stderr",
     "output_type": "stream",
     "text": [
      "Rate limit reached. Sleeping for: 678\n",
      "Rate limit reached. Sleeping for: 683\n",
      "Rate limit reached. Sleeping for: 684\n"
     ]
    },
    {
     "ename": "KeyboardInterrupt",
     "evalue": "",
     "output_type": "error",
     "traceback": [
      "\u001b[0;31m---------------------------------------------------------------------------\u001b[0m",
      "\u001b[0;31mKeyboardInterrupt\u001b[0m                         Traceback (most recent call last)",
      "\u001b[0;32m<ipython-input-19-48ae8a26f2be>\u001b[0m in \u001b[0;36m<module>\u001b[0;34m()\u001b[0m\n\u001b[1;32m      6\u001b[0m     \u001b[0;32mfor\u001b[0m \u001b[0mj\u001b[0m \u001b[0;32min\u001b[0m \u001b[0mnetwork\u001b[0m\u001b[0;34m:\u001b[0m\u001b[0;34m\u001b[0m\u001b[0m\n\u001b[1;32m      7\u001b[0m         \u001b[0;32mif\u001b[0m \u001b[0mi\u001b[0m \u001b[0;34m!=\u001b[0m \u001b[0mj\u001b[0m\u001b[0;34m:\u001b[0m\u001b[0;34m\u001b[0m\u001b[0m\n\u001b[0;32m----> 8\u001b[0;31m             \u001b[0mdf\u001b[0m\u001b[0;34m[\u001b[0m\u001b[0mi\u001b[0m\u001b[0;34m]\u001b[0m\u001b[0;34m[\u001b[0m\u001b[0mj\u001b[0m\u001b[0;34m]\u001b[0m \u001b[0;34m=\u001b[0m \u001b[0mget_jaccard\u001b[0m\u001b[0;34m(\u001b[0m\u001b[0mi\u001b[0m\u001b[0;34m,\u001b[0m\u001b[0mj\u001b[0m\u001b[0;34m)\u001b[0m\u001b[0;34m\u001b[0m\u001b[0m\n\u001b[0m",
      "\u001b[0;32m<ipython-input-10-0716b839c818>\u001b[0m in \u001b[0;36mget_jaccard\u001b[0;34m(user1, user2)\u001b[0m\n\u001b[1;32m      1\u001b[0m \u001b[0;32mdef\u001b[0m \u001b[0mget_jaccard\u001b[0m\u001b[0;34m(\u001b[0m\u001b[0muser1\u001b[0m\u001b[0;34m,\u001b[0m \u001b[0muser2\u001b[0m\u001b[0;34m)\u001b[0m\u001b[0;34m:\u001b[0m\u001b[0;34m\u001b[0m\u001b[0m\n\u001b[0;32m----> 2\u001b[0;31m     \u001b[0ma\u001b[0m \u001b[0;34m=\u001b[0m \u001b[0mget_network\u001b[0m\u001b[0;34m(\u001b[0m\u001b[0muser1\u001b[0m\u001b[0;34m)\u001b[0m\u001b[0;34m\u001b[0m\u001b[0m\n\u001b[0m\u001b[1;32m      3\u001b[0m     \u001b[0mb\u001b[0m \u001b[0;34m=\u001b[0m \u001b[0mget_network\u001b[0m\u001b[0;34m(\u001b[0m\u001b[0muser2\u001b[0m\u001b[0;34m)\u001b[0m\u001b[0;34m\u001b[0m\u001b[0m\n\u001b[1;32m      4\u001b[0m     \u001b[0mx\u001b[0m \u001b[0;34m=\u001b[0m \u001b[0mlist\u001b[0m\u001b[0;34m(\u001b[0m\u001b[0mset\u001b[0m\u001b[0;34m(\u001b[0m\u001b[0ma\u001b[0m\u001b[0;34m)\u001b[0m \u001b[0;34m&\u001b[0m \u001b[0mset\u001b[0m\u001b[0;34m(\u001b[0m\u001b[0mb\u001b[0m\u001b[0;34m)\u001b[0m\u001b[0;34m)\u001b[0m\u001b[0;34m\u001b[0m\u001b[0m\n\u001b[1;32m      5\u001b[0m     \u001b[0mj\u001b[0m \u001b[0;34m=\u001b[0m \u001b[0mfloat\u001b[0m\u001b[0;34m(\u001b[0m\u001b[0mlen\u001b[0m\u001b[0;34m(\u001b[0m\u001b[0mx\u001b[0m\u001b[0;34m)\u001b[0m\u001b[0;34m)\u001b[0m \u001b[0;34m/\u001b[0m \u001b[0;34m(\u001b[0m\u001b[0mlen\u001b[0m\u001b[0;34m(\u001b[0m\u001b[0ma\u001b[0m\u001b[0;34m)\u001b[0m \u001b[0;34m+\u001b[0m \u001b[0mlen\u001b[0m\u001b[0;34m(\u001b[0m\u001b[0mb\u001b[0m\u001b[0;34m)\u001b[0m \u001b[0;34m-\u001b[0m \u001b[0mlen\u001b[0m\u001b[0;34m(\u001b[0m\u001b[0mx\u001b[0m\u001b[0;34m)\u001b[0m\u001b[0;34m)\u001b[0m\u001b[0;34m\u001b[0m\u001b[0m\n",
      "\u001b[0;32m<ipython-input-6-ceed1cf57e90>\u001b[0m in \u001b[0;36mget_network\u001b[0;34m(user)\u001b[0m\n\u001b[1;32m     14\u001b[0m \u001b[0;34m\u001b[0m\u001b[0m\n\u001b[1;32m     15\u001b[0m \u001b[0;32mdef\u001b[0m \u001b[0mget_network\u001b[0m\u001b[0;34m(\u001b[0m\u001b[0muser\u001b[0m\u001b[0;34m)\u001b[0m\u001b[0;34m:\u001b[0m\u001b[0;34m\u001b[0m\u001b[0m\n\u001b[0;32m---> 16\u001b[0;31m     \u001b[0mnetwork\u001b[0m \u001b[0;34m=\u001b[0m \u001b[0mget_friends\u001b[0m\u001b[0;34m(\u001b[0m\u001b[0muser\u001b[0m\u001b[0;34m)\u001b[0m \u001b[0;34m+\u001b[0m \u001b[0mget_followers\u001b[0m\u001b[0;34m(\u001b[0m\u001b[0muser\u001b[0m\u001b[0;34m)\u001b[0m\u001b[0;34m\u001b[0m\u001b[0m\n\u001b[0m\u001b[1;32m     17\u001b[0m     \u001b[0;32mreturn\u001b[0m \u001b[0mnetwork\u001b[0m\u001b[0;34m\u001b[0m\u001b[0m\n",
      "\u001b[0;32m<ipython-input-6-ceed1cf57e90>\u001b[0m in \u001b[0;36mget_followers\u001b[0;34m(target)\u001b[0m\n\u001b[1;32m      2\u001b[0m     \u001b[0mfollowers\u001b[0m \u001b[0;34m=\u001b[0m \u001b[0;34m[\u001b[0m\u001b[0;34m]\u001b[0m\u001b[0;34m\u001b[0m\u001b[0m\n\u001b[1;32m      3\u001b[0m     \u001b[0;32mfor\u001b[0m \u001b[0mfollower\u001b[0m \u001b[0;32min\u001b[0m \u001b[0mapi\u001b[0m\u001b[0;34m.\u001b[0m\u001b[0mfollowers_ids\u001b[0m\u001b[0;34m(\u001b[0m\u001b[0mtarget\u001b[0m\u001b[0;34m)\u001b[0m\u001b[0;34m:\u001b[0m\u001b[0;34m\u001b[0m\u001b[0m\n\u001b[0;32m----> 4\u001b[0;31m         \u001b[0msn\u001b[0m \u001b[0;34m=\u001b[0m \u001b[0mapi\u001b[0m\u001b[0;34m.\u001b[0m\u001b[0mget_user\u001b[0m\u001b[0;34m(\u001b[0m\u001b[0mfollower\u001b[0m\u001b[0;34m)\u001b[0m\u001b[0;34m.\u001b[0m\u001b[0mscreen_name\u001b[0m\u001b[0;34m\u001b[0m\u001b[0m\n\u001b[0m\u001b[1;32m      5\u001b[0m         \u001b[0mfollowers\u001b[0m\u001b[0;34m.\u001b[0m\u001b[0mappend\u001b[0m\u001b[0;34m(\u001b[0m\u001b[0msn\u001b[0m\u001b[0;34m)\u001b[0m\u001b[0;34m\u001b[0m\u001b[0m\n\u001b[1;32m      6\u001b[0m     \u001b[0;32mreturn\u001b[0m \u001b[0mfollowers\u001b[0m\u001b[0;34m\u001b[0m\u001b[0m\n",
      "\u001b[0;32m~/anaconda3/lib/python3.6/site-packages/tweepy/binder.py\u001b[0m in \u001b[0;36m_call\u001b[0;34m(*args, **kwargs)\u001b[0m\n\u001b[1;32m    248\u001b[0m             \u001b[0;32mreturn\u001b[0m \u001b[0mmethod\u001b[0m\u001b[0;34m\u001b[0m\u001b[0m\n\u001b[1;32m    249\u001b[0m         \u001b[0;32melse\u001b[0m\u001b[0;34m:\u001b[0m\u001b[0;34m\u001b[0m\u001b[0m\n\u001b[0;32m--> 250\u001b[0;31m             \u001b[0;32mreturn\u001b[0m \u001b[0mmethod\u001b[0m\u001b[0;34m.\u001b[0m\u001b[0mexecute\u001b[0m\u001b[0;34m(\u001b[0m\u001b[0;34m)\u001b[0m\u001b[0;34m\u001b[0m\u001b[0m\n\u001b[0m\u001b[1;32m    251\u001b[0m \u001b[0;34m\u001b[0m\u001b[0m\n\u001b[1;32m    252\u001b[0m     \u001b[0;31m# Set pagination mode\u001b[0m\u001b[0;34m\u001b[0m\u001b[0;34m\u001b[0m\u001b[0m\n",
      "\u001b[0;32m~/anaconda3/lib/python3.6/site-packages/tweepy/binder.py\u001b[0m in \u001b[0;36mexecute\u001b[0;34m(self)\u001b[0m\n\u001b[1;32m    162\u001b[0m                                     \u001b[0;32mif\u001b[0m \u001b[0mself\u001b[0m\u001b[0;34m.\u001b[0m\u001b[0mwait_on_rate_limit_notify\u001b[0m\u001b[0;34m:\u001b[0m\u001b[0;34m\u001b[0m\u001b[0m\n\u001b[1;32m    163\u001b[0m                                         \u001b[0mlog\u001b[0m\u001b[0;34m.\u001b[0m\u001b[0mwarning\u001b[0m\u001b[0;34m(\u001b[0m\u001b[0;34m\"Rate limit reached. Sleeping for: %d\"\u001b[0m \u001b[0;34m%\u001b[0m \u001b[0msleep_time\u001b[0m\u001b[0;34m)\u001b[0m\u001b[0;34m\u001b[0m\u001b[0m\n\u001b[0;32m--> 164\u001b[0;31m                                     \u001b[0mtime\u001b[0m\u001b[0;34m.\u001b[0m\u001b[0msleep\u001b[0m\u001b[0;34m(\u001b[0m\u001b[0msleep_time\u001b[0m \u001b[0;34m+\u001b[0m \u001b[0;36m5\u001b[0m\u001b[0;34m)\u001b[0m  \u001b[0;31m# sleep for few extra sec\u001b[0m\u001b[0;34m\u001b[0m\u001b[0m\n\u001b[0m\u001b[1;32m    165\u001b[0m \u001b[0;34m\u001b[0m\u001b[0m\n\u001b[1;32m    166\u001b[0m                 \u001b[0;31m# if self.wait_on_rate_limit and self._reset_time is not None and \\\u001b[0m\u001b[0;34m\u001b[0m\u001b[0;34m\u001b[0m\u001b[0m\n",
      "\u001b[0;31mKeyboardInterrupt\u001b[0m: "
     ]
    }
   ],
   "source": [
    "#How overlapping is my network?\n",
    "network = paginate_friends('infosec_truths')\n",
    "network_dict = two_degrees('infosec_truths', 'friends', 'friends')\n"
   ]
  },
  {
   "cell_type": "markdown",
   "metadata": {},
   "source": [
    "So lets run one of these to get the dictionary built. From there we can do some fun stuff."
   ]
  },
  {
   "cell_type": "markdown",
   "metadata": {},
   "source": [
    "Obviously you can then run similarity metrics within these dictionaries as well:\n",
    "\n",
    "How much do people within my network overlap with one another? (I call this the \"echo-chamber-index\"):"
   ]
  },
  {
   "cell_type": "code",
   "execution_count": 24,
   "metadata": {},
   "outputs": [],
   "source": [
    "df = pd.DataFrame(index=network, columns=network)\n",
    "for i in network:\n",
    "    for j in network:\n",
    "        if i != j:\n",
    "            df[i][j] = jaccard_index(network_dict[i],network_dict[j])"
   ]
  },
  {
   "cell_type": "code",
   "execution_count": 27,
   "metadata": {},
   "outputs": [
    {
     "data": {
      "text/html": [
       "<div>\n",
       "<style scoped>\n",
       "    .dataframe tbody tr th:only-of-type {\n",
       "        vertical-align: middle;\n",
       "    }\n",
       "\n",
       "    .dataframe tbody tr th {\n",
       "        vertical-align: top;\n",
       "    }\n",
       "\n",
       "    .dataframe thead th {\n",
       "        text-align: right;\n",
       "    }\n",
       "</style>\n",
       "<table border=\"1\" class=\"dataframe\">\n",
       "  <thead>\n",
       "    <tr style=\"text-align: right;\">\n",
       "      <th></th>\n",
       "      <th>derekcoulson</th>\n",
       "      <th>ByrneGh</th>\n",
       "      <th>BartInglot</th>\n",
       "      <th>3dRailForensics</th>\n",
       "      <th>TunnelsUp</th>\n",
       "      <th>spresec</th>\n",
       "      <th>mttcrns</th>\n",
       "      <th>BarryV</th>\n",
       "      <th>ISecPlayasClub</th>\n",
       "      <th>MikeOppenheim</th>\n",
       "      <th>...</th>\n",
       "      <th>deantyler</th>\n",
       "      <th>williballenthin</th>\n",
       "      <th>secbern</th>\n",
       "      <th>generationlext</th>\n",
       "      <th>cglyer</th>\n",
       "      <th>matthewdunwoody</th>\n",
       "      <th>bwithnell</th>\n",
       "      <th>stvemillertime</th>\n",
       "      <th>danielhbohannon</th>\n",
       "      <th>ItsReallyNick</th>\n",
       "    </tr>\n",
       "  </thead>\n",
       "  <tbody>\n",
       "    <tr>\n",
       "      <th>derekcoulson</th>\n",
       "      <td>NaN</td>\n",
       "      <td>0.193416</td>\n",
       "      <td>0.131086</td>\n",
       "      <td>0.122066</td>\n",
       "      <td>0.000776548</td>\n",
       "      <td>0.0808823</td>\n",
       "      <td>0.0178394</td>\n",
       "      <td>0.139847</td>\n",
       "      <td>0.0812808</td>\n",
       "      <td>0.064759</td>\n",
       "      <td>...</td>\n",
       "      <td>0.0652921</td>\n",
       "      <td>0.0639764</td>\n",
       "      <td>0.191083</td>\n",
       "      <td>0.11985</td>\n",
       "      <td>0.188482</td>\n",
       "      <td>0.27044</td>\n",
       "      <td>0.0990338</td>\n",
       "      <td>0.149038</td>\n",
       "      <td>0.145933</td>\n",
       "      <td>0.0698125</td>\n",
       "    </tr>\n",
       "    <tr>\n",
       "      <th>ByrneGh</th>\n",
       "      <td>0.193416</td>\n",
       "      <td>NaN</td>\n",
       "      <td>0.145228</td>\n",
       "      <td>0.126984</td>\n",
       "      <td>0.000780488</td>\n",
       "      <td>0.0938775</td>\n",
       "      <td>0.015213</td>\n",
       "      <td>0.104854</td>\n",
       "      <td>0.0868421</td>\n",
       "      <td>0.0460829</td>\n",
       "      <td>...</td>\n",
       "      <td>0.0716981</td>\n",
       "      <td>0.0507968</td>\n",
       "      <td>0.152318</td>\n",
       "      <td>0.100806</td>\n",
       "      <td>0.148571</td>\n",
       "      <td>0.188679</td>\n",
       "      <td>0.0645161</td>\n",
       "      <td>0.126984</td>\n",
       "      <td>0.0968523</td>\n",
       "      <td>0.0502901</td>\n",
       "    </tr>\n",
       "    <tr>\n",
       "      <th>BartInglot</th>\n",
       "      <td>0.131086</td>\n",
       "      <td>0.145228</td>\n",
       "      <td>NaN</td>\n",
       "      <td>0.0817307</td>\n",
       "      <td>0.00097352</td>\n",
       "      <td>0.106719</td>\n",
       "      <td>0.0180905</td>\n",
       "      <td>0.104563</td>\n",
       "      <td>0.0732323</td>\n",
       "      <td>0.0358744</td>\n",
       "      <td>...</td>\n",
       "      <td>0.1341</td>\n",
       "      <td>0.0501968</td>\n",
       "      <td>0.111111</td>\n",
       "      <td>0.0877862</td>\n",
       "      <td>0.151351</td>\n",
       "      <td>0.123919</td>\n",
       "      <td>0.0915841</td>\n",
       "      <td>0.0975609</td>\n",
       "      <td>0.088993</td>\n",
       "      <td>0.049904</td>\n",
       "    </tr>\n",
       "    <tr>\n",
       "      <th>3dRailForensics</th>\n",
       "      <td>0.122066</td>\n",
       "      <td>0.126984</td>\n",
       "      <td>0.0817307</td>\n",
       "      <td>NaN</td>\n",
       "      <td>0.000394011</td>\n",
       "      <td>0.053398</td>\n",
       "      <td>0.0138741</td>\n",
       "      <td>0.0974576</td>\n",
       "      <td>0.0523256</td>\n",
       "      <td>0.0344828</td>\n",
       "      <td>...</td>\n",
       "      <td>0.0401786</td>\n",
       "      <td>0.0203252</td>\n",
       "      <td>0.133588</td>\n",
       "      <td>0.132653</td>\n",
       "      <td>0.136364</td>\n",
       "      <td>0.0936455</td>\n",
       "      <td>0.0830945</td>\n",
       "      <td>0.218045</td>\n",
       "      <td>0.066313</td>\n",
       "      <td>0.0333988</td>\n",
       "    </tr>\n",
       "    <tr>\n",
       "      <th>TunnelsUp</th>\n",
       "      <td>0.000776548</td>\n",
       "      <td>0.000780488</td>\n",
       "      <td>0.00097352</td>\n",
       "      <td>0.000394011</td>\n",
       "      <td>NaN</td>\n",
       "      <td>0.000584795</td>\n",
       "      <td>0.000682361</td>\n",
       "      <td>0.0020284</td>\n",
       "      <td>0.000189502</td>\n",
       "      <td>0.00036075</td>\n",
       "      <td>...</td>\n",
       "      <td>0.000388576</td>\n",
       "      <td>0.00152258</td>\n",
       "      <td>0.000767902</td>\n",
       "      <td>0.00077912</td>\n",
       "      <td>0.000592534</td>\n",
       "      <td>0.000572519</td>\n",
       "      <td>0.000756144</td>\n",
       "      <td>0.000788333</td>\n",
       "      <td>0.000752729</td>\n",
       "      <td>0.00557448</td>\n",
       "    </tr>\n",
       "  </tbody>\n",
       "</table>\n",
       "<p>5 rows × 52 columns</p>\n",
       "</div>"
      ],
      "text/plain": [
       "                derekcoulson      ByrneGh  BartInglot 3dRailForensics  \\\n",
       "derekcoulson             NaN     0.193416    0.131086        0.122066   \n",
       "ByrneGh             0.193416          NaN    0.145228        0.126984   \n",
       "BartInglot          0.131086     0.145228         NaN       0.0817307   \n",
       "3dRailForensics     0.122066     0.126984   0.0817307             NaN   \n",
       "TunnelsUp        0.000776548  0.000780488  0.00097352     0.000394011   \n",
       "\n",
       "                   TunnelsUp      spresec      mttcrns     BarryV  \\\n",
       "derekcoulson     0.000776548    0.0808823    0.0178394   0.139847   \n",
       "ByrneGh          0.000780488    0.0938775     0.015213   0.104854   \n",
       "BartInglot        0.00097352     0.106719    0.0180905   0.104563   \n",
       "3dRailForensics  0.000394011     0.053398    0.0138741  0.0974576   \n",
       "TunnelsUp                NaN  0.000584795  0.000682361  0.0020284   \n",
       "\n",
       "                ISecPlayasClub MikeOppenheim      ...         deantyler  \\\n",
       "derekcoulson         0.0812808      0.064759      ...         0.0652921   \n",
       "ByrneGh              0.0868421     0.0460829      ...         0.0716981   \n",
       "BartInglot           0.0732323     0.0358744      ...            0.1341   \n",
       "3dRailForensics      0.0523256     0.0344828      ...         0.0401786   \n",
       "TunnelsUp          0.000189502    0.00036075      ...       0.000388576   \n",
       "\n",
       "                williballenthin      secbern generationlext       cglyer  \\\n",
       "derekcoulson          0.0639764     0.191083        0.11985     0.188482   \n",
       "ByrneGh               0.0507968     0.152318       0.100806     0.148571   \n",
       "BartInglot            0.0501968     0.111111      0.0877862     0.151351   \n",
       "3dRailForensics       0.0203252     0.133588       0.132653     0.136364   \n",
       "TunnelsUp            0.00152258  0.000767902     0.00077912  0.000592534   \n",
       "\n",
       "                matthewdunwoody    bwithnell stvemillertime danielhbohannon  \\\n",
       "derekcoulson            0.27044    0.0990338       0.149038        0.145933   \n",
       "ByrneGh                0.188679    0.0645161       0.126984       0.0968523   \n",
       "BartInglot             0.123919    0.0915841      0.0975609        0.088993   \n",
       "3dRailForensics       0.0936455    0.0830945       0.218045        0.066313   \n",
       "TunnelsUp           0.000572519  0.000756144    0.000788333     0.000752729   \n",
       "\n",
       "                ItsReallyNick  \n",
       "derekcoulson        0.0698125  \n",
       "ByrneGh             0.0502901  \n",
       "BartInglot           0.049904  \n",
       "3dRailForensics     0.0333988  \n",
       "TunnelsUp          0.00557448  \n",
       "\n",
       "[5 rows x 52 columns]"
      ]
     },
     "execution_count": 27,
     "metadata": {},
     "output_type": "execute_result"
    }
   ],
   "source": [
    "df.head()"
   ]
  },
  {
   "cell_type": "markdown",
   "metadata": {},
   "source": [
    "Thus I can query the similarity of any two network members like:"
   ]
  },
  {
   "cell_type": "code",
   "execution_count": 29,
   "metadata": {},
   "outputs": [
    {
     "data": {
      "text/plain": [
       "0.04711346734482632"
      ]
     },
     "execution_count": 29,
     "metadata": {},
     "output_type": "execute_result"
    }
   ],
   "source": [
    "df['ItsReallyNick']['stvemillertime']"
   ]
  },
  {
   "cell_type": "markdown",
   "metadata": {},
   "source": [
    "And I can generate a cumulative measure of overlap:"
   ]
  },
  {
   "cell_type": "code",
   "execution_count": 34,
   "metadata": {},
   "outputs": [
    {
     "data": {
      "text/plain": [
       "0.05221995349270476"
      ]
     },
     "execution_count": 34,
     "metadata": {},
     "output_type": "execute_result"
    }
   ],
   "source": [
    "df.mean().mean()"
   ]
  },
  {
   "cell_type": "markdown",
   "metadata": {},
   "source": [
    "## Timeline evaluations and beyond\n",
    "Obviously the rate limiting calculus gets dicey (and annoying). Additionally, this metric is crude and doesn't really measure my twitter experience, since some users are far more active than others. So how can I subsample this list based on the actual content these users are producing? There are a couple ideas I'd like to explore later:"
   ]
  },
  {
   "cell_type": "markdown",
   "metadata": {},
   "source": [
    "1. Analyze overlap of inbound tweets, unsing timeline analytics\n",
    "2. Analyst overlap of likes/ RTs\n",
    "3. Go 3 or 4 degrees out\n",
    "\n",
    "But we'll leave that for another day. If you have suggestions, please let me know! @secbern"
   ]
  },
  {
   "cell_type": "code",
   "execution_count": null,
   "metadata": {},
   "outputs": [],
   "source": []
  }
 ],
 "metadata": {
  "kernelspec": {
   "display_name": "Python 3",
   "language": "python",
   "name": "python3"
  },
  "language_info": {
   "codemirror_mode": {
    "name": "ipython",
    "version": 3
   },
   "file_extension": ".py",
   "mimetype": "text/x-python",
   "name": "python",
   "nbconvert_exporter": "python",
   "pygments_lexer": "ipython3",
   "version": "3.6.4"
  }
 },
 "nbformat": 4,
 "nbformat_minor": 2
}
